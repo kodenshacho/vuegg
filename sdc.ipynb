{
  "nbformat": 4,
  "nbformat_minor": 0,
  "metadata": {
    "colab": {
      "provenance": [],
      "include_colab_link": true
    },
    "kernelspec": {
      "name": "python3",
      "display_name": "Python 3"
    }
  },
  "cells": [
    {
      "cell_type": "markdown",
      "metadata": {
        "id": "view-in-github",
        "colab_type": "text"
      },
      "source": [
        "<a href=\"https://colab.research.google.com/github/kodenshacho/vuegg/blob/master/CPP.ipynb\" target=\"_parent\"><img src=\"https://colab.research.google.com/assets/colab-badge.svg\" alt=\"Open In Colab\"/></a>"
      ]
    },
    {
      "cell_type": "markdown",
      "metadata": {
        "id": "shmDs3e3BOrc"
      },
      "source": [
        "# C++ magic for Google Colab\n",
        "Regular syntax highlighting options available for IPython and Jupyter doesen't seem to work with the Google Colab. So, I created a work around of sorts.\n",
        "The plugin used in this notebook can print syntax highlghted C++ code."
      ]
    },
    {
      "cell_type": "markdown",
      "metadata": {
        "id": "63xBUG5tCGHg"
      },
      "source": [
        "## Setup"
      ]
    },
    {
      "cell_type": "markdown",
      "metadata": {
        "id": "zfoPP8qkBvra"
      },
      "source": [
        "### Get the C++ magic command plugin."
      ]
    },
    {
      "cell_type": "code",
      "metadata": {
        "id": "CpE6eLtlgQtE",
        "outputId": "b2bf1323-3de5-4602-f742-d007696f538c",
        "colab": {
          "base_uri": "https://localhost:8080/"
        }
      },
      "source": [
        "\n",
        "!wget -O cpp_plugin.py https://gist.github.com/akshaykhadse/7acc91dd41f52944c6150754e5530c4b/raw/cpp_plugin.py"
      ],
      "execution_count": null,
      "outputs": [
        {
          "output_type": "stream",
          "name": "stdout",
          "text": [
            "--2023-03-30 13:32:26--  https://gist.github.com/akshaykhadse/7acc91dd41f52944c6150754e5530c4b/raw/cpp_plugin.py\n",
            "Resolving gist.github.com (gist.github.com)... 192.30.255.112\n",
            "Connecting to gist.github.com (gist.github.com)|192.30.255.112|:443... connected.\n",
            "HTTP request sent, awaiting response... 301 Moved Permanently\n",
            "Location: https://gist.githubusercontent.com/akshaykhadse/7acc91dd41f52944c6150754e5530c4b/raw/cpp_plugin.py [following]\n",
            "--2023-03-30 13:32:26--  https://gist.githubusercontent.com/akshaykhadse/7acc91dd41f52944c6150754e5530c4b/raw/cpp_plugin.py\n",
            "Resolving gist.githubusercontent.com (gist.githubusercontent.com)... 185.199.108.133, 185.199.109.133, 185.199.110.133, ...\n",
            "Connecting to gist.githubusercontent.com (gist.githubusercontent.com)|185.199.108.133|:443... connected.\n",
            "HTTP request sent, awaiting response... 200 OK\n",
            "Length: 2730 (2.7K) [text/plain]\n",
            "Saving to: ‘cpp_plugin.py’\n",
            "\n",
            "\rcpp_plugin.py         0%[                    ]       0  --.-KB/s               \rcpp_plugin.py       100%[===================>]   2.67K  --.-KB/s    in 0s      \n",
            "\n",
            "2023-03-30 13:32:26 (39.4 MB/s) - ‘cpp_plugin.py’ saved [2730/2730]\n",
            "\n"
          ]
        }
      ]
    },
    {
      "cell_type": "markdown",
      "metadata": {
        "id": "ZCFCfE3kCAf5"
      },
      "source": [
        "### Load the plugin"
      ]
    },
    {
      "cell_type": "code",
      "metadata": {
        "id": "WGgFM6ZFAIgN"
      },
      "source": [
        "%load_ext cpp_plugin"
      ],
      "execution_count": null,
      "outputs": []
    },
    {
      "cell_type": "markdown",
      "metadata": {
        "id": "St9kxRcLCOK_"
      },
      "source": [
        "## Usage"
      ]
    },
    {
      "cell_type": "markdown",
      "metadata": {
        "id": "BHnULhmMCP48"
      },
      "source": [
        "### Create source file\n",
        "Use the cell magic `%%cpp -n <filename>.cpp` to create a file with the contents of the cell and then display the syntax highlighted code in output. If `-n` is not used, then `src.cpp` will be used as default filename. "
      ]
    },
    {
      "cell_type": "code",
      "metadata": {
        "id": "CUv5nwF0mAdl",
        "outputId": "3322ea6d-8cae-4d25-a2c1-46dac5981b1d",
        "colab": {
          "base_uri": "https://localhost:8080/",
          "height": 209
        }
      },
      "source": [
        "#@title Refer output of this cell. Double-click to hide source.\n",
        "%%cpp -n test.cpp\n",
        "#include <iostream>\n",
        "\n",
        "int foo();\n",
        "int bar();\n",
        "\n",
        "using namespace std;\n",
        "int main() {\n",
        "    foo();\n",
        "    bar();\n",
        "}"
      ],
      "execution_count": null,
      "outputs": [
        {
          "output_type": "display_data",
          "data": {
            "text/plain": [
              "<IPython.core.display.HTML object>"
            ],
            "text/html": [
              "<!DOCTYPE html PUBLIC \"-//W3C//DTD HTML 4.01//EN\"\n",
              "   \"http://www.w3.org/TR/html4/strict.dtd\">\n",
              "<!--\n",
              "generated by Pygments <https://pygments.org/>\n",
              "Copyright 2006-2022 by the Pygments team.\n",
              "Licensed under the BSD license, see LICENSE for details.\n",
              "-->\n",
              "<html>\n",
              "<head>\n",
              "  <title></title>\n",
              "  <meta http-equiv=\"content-type\" content=\"text/html; charset=None\">\n",
              "  <style type=\"text/css\">\n",
              "/*\n",
              "generated by Pygments <https://pygments.org/>\n",
              "Copyright 2006-2022 by the Pygments team.\n",
              "Licensed under the BSD license, see LICENSE for details.\n",
              "*/\n",
              "pre { line-height: 125%; }\n",
              "td.linenos .normal { color: inherit; background-color: transparent; padding-left: 5px; padding-right: 5px; }\n",
              "span.linenos { color: inherit; background-color: transparent; padding-left: 5px; padding-right: 5px; }\n",
              "td.linenos .special { color: #000000; background-color: #ffffc0; padding-left: 5px; padding-right: 5px; }\n",
              "span.linenos.special { color: #000000; background-color: #ffffc0; padding-left: 5px; padding-right: 5px; }\n",
              "body .hll { background-color: #4f424c }\n",
              "body .c { color: #776e71 } /* Comment */\n",
              "body .err { color: #ef6155 } /* Error */\n",
              "body .k { color: #815ba4 } /* Keyword */\n",
              "body .l { color: #f99b15 } /* Literal */\n",
              "body .n { color: #e7e9db } /* Name */\n",
              "body .o { color: #5bc4bf } /* Operator */\n",
              "body .p { color: #e7e9db } /* Punctuation */\n",
              "body .ch { color: #776e71 } /* Comment.Hashbang */\n",
              "body .cm { color: #776e71 } /* Comment.Multiline */\n",
              "body .cp { color: #776e71 } /* Comment.Preproc */\n",
              "body .cpf { color: #776e71 } /* Comment.PreprocFile */\n",
              "body .c1 { color: #776e71 } /* Comment.Single */\n",
              "body .cs { color: #776e71 } /* Comment.Special */\n",
              "body .gd { color: #ef6155 } /* Generic.Deleted */\n",
              "body .ge { font-style: italic } /* Generic.Emph */\n",
              "body .gh { color: #e7e9db; font-weight: bold } /* Generic.Heading */\n",
              "body .gi { color: #48b685 } /* Generic.Inserted */\n",
              "body .gp { color: #776e71; font-weight: bold } /* Generic.Prompt */\n",
              "body .gs { font-weight: bold } /* Generic.Strong */\n",
              "body .gu { color: #5bc4bf; font-weight: bold } /* Generic.Subheading */\n",
              "body .kc { color: #815ba4 } /* Keyword.Constant */\n",
              "body .kd { color: #815ba4 } /* Keyword.Declaration */\n",
              "body .kn { color: #5bc4bf } /* Keyword.Namespace */\n",
              "body .kp { color: #815ba4 } /* Keyword.Pseudo */\n",
              "body .kr { color: #815ba4 } /* Keyword.Reserved */\n",
              "body .kt { color: #fec418 } /* Keyword.Type */\n",
              "body .ld { color: #48b685 } /* Literal.Date */\n",
              "body .m { color: #f99b15 } /* Literal.Number */\n",
              "body .s { color: #48b685 } /* Literal.String */\n",
              "body .na { color: #06b6ef } /* Name.Attribute */\n",
              "body .nb { color: #e7e9db } /* Name.Builtin */\n",
              "body .nc { color: #fec418 } /* Name.Class */\n",
              "body .no { color: #ef6155 } /* Name.Constant */\n",
              "body .nd { color: #5bc4bf } /* Name.Decorator */\n",
              "body .ni { color: #e7e9db } /* Name.Entity */\n",
              "body .ne { color: #ef6155 } /* Name.Exception */\n",
              "body .nf { color: #06b6ef } /* Name.Function */\n",
              "body .nl { color: #e7e9db } /* Name.Label */\n",
              "body .nn { color: #fec418 } /* Name.Namespace */\n",
              "body .nx { color: #06b6ef } /* Name.Other */\n",
              "body .py { color: #e7e9db } /* Name.Property */\n",
              "body .nt { color: #5bc4bf } /* Name.Tag */\n",
              "body .nv { color: #ef6155 } /* Name.Variable */\n",
              "body .ow { color: #5bc4bf } /* Operator.Word */\n",
              "body .pm { color: #e7e9db } /* Punctuation.Marker */\n",
              "body .w { color: #e7e9db } /* Text.Whitespace */\n",
              "body .mb { color: #f99b15 } /* Literal.Number.Bin */\n",
              "body .mf { color: #f99b15 } /* Literal.Number.Float */\n",
              "body .mh { color: #f99b15 } /* Literal.Number.Hex */\n",
              "body .mi { color: #f99b15 } /* Literal.Number.Integer */\n",
              "body .mo { color: #f99b15 } /* Literal.Number.Oct */\n",
              "body .sa { color: #48b685 } /* Literal.String.Affix */\n",
              "body .sb { color: #48b685 } /* Literal.String.Backtick */\n",
              "body .sc { color: #e7e9db } /* Literal.String.Char */\n",
              "body .dl { color: #48b685 } /* Literal.String.Delimiter */\n",
              "body .sd { color: #776e71 } /* Literal.String.Doc */\n",
              "body .s2 { color: #48b685 } /* Literal.String.Double */\n",
              "body .se { color: #f99b15 } /* Literal.String.Escape */\n",
              "body .sh { color: #48b685 } /* Literal.String.Heredoc */\n",
              "body .si { color: #f99b15 } /* Literal.String.Interpol */\n",
              "body .sx { color: #48b685 } /* Literal.String.Other */\n",
              "body .sr { color: #48b685 } /* Literal.String.Regex */\n",
              "body .s1 { color: #48b685 } /* Literal.String.Single */\n",
              "body .ss { color: #48b685 } /* Literal.String.Symbol */\n",
              "body .bp { color: #e7e9db } /* Name.Builtin.Pseudo */\n",
              "body .fm { color: #06b6ef } /* Name.Function.Magic */\n",
              "body .vc { color: #ef6155 } /* Name.Variable.Class */\n",
              "body .vg { color: #ef6155 } /* Name.Variable.Global */\n",
              "body .vi { color: #ef6155 } /* Name.Variable.Instance */\n",
              "body .vm { color: #ef6155 } /* Name.Variable.Magic */\n",
              "body .il { color: #f99b15 } /* Literal.Number.Integer.Long */\n",
              "\n",
              "  </style>\n",
              "</head>\n",
              "<body>\n",
              "<h2></h2>\n",
              "\n",
              "<div class=\"highlight\"><pre><span></span><span class=\"cp\">#include</span><span class=\"w\"> </span><span class=\"cpf\">&lt;iostream&gt;</span>\n",
              "\n",
              "<span class=\"kt\">int</span><span class=\"w\"> </span><span class=\"nf\">foo</span><span class=\"p\">();</span>\n",
              "<span class=\"kt\">int</span><span class=\"w\"> </span><span class=\"nf\">bar</span><span class=\"p\">();</span>\n",
              "\n",
              "<span class=\"k\">using</span><span class=\"w\"> </span><span class=\"k\">namespace</span><span class=\"w\"> </span><span class=\"nn\">std</span><span class=\"p\">;</span>\n",
              "<span class=\"kt\">int</span><span class=\"w\"> </span><span class=\"nf\">main</span><span class=\"p\">()</span><span class=\"w\"> </span><span class=\"p\">{</span>\n",
              "<span class=\"w\">    </span><span class=\"n\">foo</span><span class=\"p\">();</span>\n",
              "<span class=\"w\">    </span><span class=\"n\">bar</span><span class=\"p\">();</span>\n",
              "<span class=\"p\">}</span>\n",
              "</pre></div>\n",
              "</body>\n",
              "</html>\n"
            ]
          },
          "metadata": {}
        }
      ]
    },
    {
      "cell_type": "markdown",
      "metadata": {
        "id": "qwlI7OraCkus"
      },
      "source": [
        "### Hide unhighlighted code\n",
        "\n",
        "Here, `#@title` on the first line creates an empty form. Double clicking on the right hand pane hides the code cell. This can also be done using right-click > Form.\n",
        "\n",
        "Following is a preview of how the hidden code will look like."
      ]
    },
    {
      "cell_type": "code",
      "metadata": {
        "id": "TYEGLFp6FSfJ",
        "outputId": "83db1529-aaa4-4969-9543-3dc30340506a",
        "colab": {
          "base_uri": "https://localhost:8080/",
          "height": 104
        }
      },
      "source": [
        "#@title Refer output of this cell. Double-click to hide source.\n",
        "%%cpp\n",
        "\n",
        "int add(int a, int b){\n",
        "    int c = a + b;\n",
        "    return c;\n",
        "}"
      ],
      "execution_count": null,
      "outputs": [
        {
          "output_type": "display_data",
          "data": {
            "text/plain": [
              "<IPython.core.display.HTML object>"
            ],
            "text/html": [
              "<!DOCTYPE html PUBLIC \"-//W3C//DTD HTML 4.01//EN\"\n",
              "   \"http://www.w3.org/TR/html4/strict.dtd\">\n",
              "<!--\n",
              "generated by Pygments <https://pygments.org/>\n",
              "Copyright 2006-2022 by the Pygments team.\n",
              "Licensed under the BSD license, see LICENSE for details.\n",
              "-->\n",
              "<html>\n",
              "<head>\n",
              "  <title></title>\n",
              "  <meta http-equiv=\"content-type\" content=\"text/html; charset=None\">\n",
              "  <style type=\"text/css\">\n",
              "/*\n",
              "generated by Pygments <https://pygments.org/>\n",
              "Copyright 2006-2022 by the Pygments team.\n",
              "Licensed under the BSD license, see LICENSE for details.\n",
              "*/\n",
              "pre { line-height: 125%; }\n",
              "td.linenos .normal { color: inherit; background-color: transparent; padding-left: 5px; padding-right: 5px; }\n",
              "span.linenos { color: inherit; background-color: transparent; padding-left: 5px; padding-right: 5px; }\n",
              "td.linenos .special { color: #000000; background-color: #ffffc0; padding-left: 5px; padding-right: 5px; }\n",
              "span.linenos.special { color: #000000; background-color: #ffffc0; padding-left: 5px; padding-right: 5px; }\n",
              "body .hll { background-color: #4f424c }\n",
              "body .c { color: #776e71 } /* Comment */\n",
              "body .err { color: #ef6155 } /* Error */\n",
              "body .k { color: #815ba4 } /* Keyword */\n",
              "body .l { color: #f99b15 } /* Literal */\n",
              "body .n { color: #e7e9db } /* Name */\n",
              "body .o { color: #5bc4bf } /* Operator */\n",
              "body .p { color: #e7e9db } /* Punctuation */\n",
              "body .ch { color: #776e71 } /* Comment.Hashbang */\n",
              "body .cm { color: #776e71 } /* Comment.Multiline */\n",
              "body .cp { color: #776e71 } /* Comment.Preproc */\n",
              "body .cpf { color: #776e71 } /* Comment.PreprocFile */\n",
              "body .c1 { color: #776e71 } /* Comment.Single */\n",
              "body .cs { color: #776e71 } /* Comment.Special */\n",
              "body .gd { color: #ef6155 } /* Generic.Deleted */\n",
              "body .ge { font-style: italic } /* Generic.Emph */\n",
              "body .gh { color: #e7e9db; font-weight: bold } /* Generic.Heading */\n",
              "body .gi { color: #48b685 } /* Generic.Inserted */\n",
              "body .gp { color: #776e71; font-weight: bold } /* Generic.Prompt */\n",
              "body .gs { font-weight: bold } /* Generic.Strong */\n",
              "body .gu { color: #5bc4bf; font-weight: bold } /* Generic.Subheading */\n",
              "body .kc { color: #815ba4 } /* Keyword.Constant */\n",
              "body .kd { color: #815ba4 } /* Keyword.Declaration */\n",
              "body .kn { color: #5bc4bf } /* Keyword.Namespace */\n",
              "body .kp { color: #815ba4 } /* Keyword.Pseudo */\n",
              "body .kr { color: #815ba4 } /* Keyword.Reserved */\n",
              "body .kt { color: #fec418 } /* Keyword.Type */\n",
              "body .ld { color: #48b685 } /* Literal.Date */\n",
              "body .m { color: #f99b15 } /* Literal.Number */\n",
              "body .s { color: #48b685 } /* Literal.String */\n",
              "body .na { color: #06b6ef } /* Name.Attribute */\n",
              "body .nb { color: #e7e9db } /* Name.Builtin */\n",
              "body .nc { color: #fec418 } /* Name.Class */\n",
              "body .no { color: #ef6155 } /* Name.Constant */\n",
              "body .nd { color: #5bc4bf } /* Name.Decorator */\n",
              "body .ni { color: #e7e9db } /* Name.Entity */\n",
              "body .ne { color: #ef6155 } /* Name.Exception */\n",
              "body .nf { color: #06b6ef } /* Name.Function */\n",
              "body .nl { color: #e7e9db } /* Name.Label */\n",
              "body .nn { color: #fec418 } /* Name.Namespace */\n",
              "body .nx { color: #06b6ef } /* Name.Other */\n",
              "body .py { color: #e7e9db } /* Name.Property */\n",
              "body .nt { color: #5bc4bf } /* Name.Tag */\n",
              "body .nv { color: #ef6155 } /* Name.Variable */\n",
              "body .ow { color: #5bc4bf } /* Operator.Word */\n",
              "body .pm { color: #e7e9db } /* Punctuation.Marker */\n",
              "body .w { color: #e7e9db } /* Text.Whitespace */\n",
              "body .mb { color: #f99b15 } /* Literal.Number.Bin */\n",
              "body .mf { color: #f99b15 } /* Literal.Number.Float */\n",
              "body .mh { color: #f99b15 } /* Literal.Number.Hex */\n",
              "body .mi { color: #f99b15 } /* Literal.Number.Integer */\n",
              "body .mo { color: #f99b15 } /* Literal.Number.Oct */\n",
              "body .sa { color: #48b685 } /* Literal.String.Affix */\n",
              "body .sb { color: #48b685 } /* Literal.String.Backtick */\n",
              "body .sc { color: #e7e9db } /* Literal.String.Char */\n",
              "body .dl { color: #48b685 } /* Literal.String.Delimiter */\n",
              "body .sd { color: #776e71 } /* Literal.String.Doc */\n",
              "body .s2 { color: #48b685 } /* Literal.String.Double */\n",
              "body .se { color: #f99b15 } /* Literal.String.Escape */\n",
              "body .sh { color: #48b685 } /* Literal.String.Heredoc */\n",
              "body .si { color: #f99b15 } /* Literal.String.Interpol */\n",
              "body .sx { color: #48b685 } /* Literal.String.Other */\n",
              "body .sr { color: #48b685 } /* Literal.String.Regex */\n",
              "body .s1 { color: #48b685 } /* Literal.String.Single */\n",
              "body .ss { color: #48b685 } /* Literal.String.Symbol */\n",
              "body .bp { color: #e7e9db } /* Name.Builtin.Pseudo */\n",
              "body .fm { color: #06b6ef } /* Name.Function.Magic */\n",
              "body .vc { color: #ef6155 } /* Name.Variable.Class */\n",
              "body .vg { color: #ef6155 } /* Name.Variable.Global */\n",
              "body .vi { color: #ef6155 } /* Name.Variable.Instance */\n",
              "body .vm { color: #ef6155 } /* Name.Variable.Magic */\n",
              "body .il { color: #f99b15 } /* Literal.Number.Integer.Long */\n",
              "\n",
              "  </style>\n",
              "</head>\n",
              "<body>\n",
              "<h2></h2>\n",
              "\n",
              "<div class=\"highlight\"><pre><span></span><span class=\"kt\">int</span><span class=\"w\"> </span><span class=\"nf\">add</span><span class=\"p\">(</span><span class=\"kt\">int</span><span class=\"w\"> </span><span class=\"n\">a</span><span class=\"p\">,</span><span class=\"w\"> </span><span class=\"kt\">int</span><span class=\"w\"> </span><span class=\"n\">b</span><span class=\"p\">){</span>\n",
              "<span class=\"w\">    </span><span class=\"kt\">int</span><span class=\"w\"> </span><span class=\"n\">c</span><span class=\"w\"> </span><span class=\"o\">=</span><span class=\"w\"> </span><span class=\"n\">a</span><span class=\"w\"> </span><span class=\"o\">+</span><span class=\"w\"> </span><span class=\"n\">b</span><span class=\"p\">;</span>\n",
              "<span class=\"w\">    </span><span class=\"k\">return</span><span class=\"w\"> </span><span class=\"n\">c</span><span class=\"p\">;</span>\n",
              "<span class=\"p\">}</span>\n",
              "</pre></div>\n",
              "</body>\n",
              "</html>\n"
            ]
          },
          "metadata": {}
        }
      ]
    },
    {
      "cell_type": "markdown",
      "metadata": {
        "id": "u93ec48s2Oxi"
      },
      "source": [
        "### Change style\n",
        "Use the option `-s <stylename>` to change syntax highlighting style.\n",
        "* default\n",
        "* emacs\n",
        "* friendly\n",
        "* colorful\n",
        "* autumn\n",
        "* murphy\n",
        "* manni\n",
        "* monokai\n",
        "* perldoc\n",
        "* pastie\n",
        "* borland\n",
        "* trac\n",
        "* native\n",
        "* fruity\n",
        "* bw\n",
        "* vim\n",
        "* vs\n",
        "* tango\n",
        "* rrt\n",
        "* xcode\n",
        "* igor\n",
        "* paraiso-light\n",
        "* paraiso-dark\n",
        "* lovelace\n",
        "* algol\n",
        "* algol_nu"
      ]
    },
    {
      "cell_type": "code",
      "metadata": {
        "id": "pwG4rmAk2zSA",
        "outputId": "d9ee87fc-f1e9-45d1-fb52-ae1828c5e698",
        "colab": {
          "base_uri": "https://localhost:8080/",
          "height": 87
        }
      },
      "source": [
        "%%cpp -n src.cpp -s fruity\n",
        "int foo() {\n",
        "    cout << \"Hello World!\" << endl;\n",
        "}"
      ],
      "execution_count": null,
      "outputs": [
        {
          "output_type": "display_data",
          "data": {
            "text/plain": [
              "<IPython.core.display.HTML object>"
            ],
            "text/html": [
              "<!DOCTYPE html PUBLIC \"-//W3C//DTD HTML 4.01//EN\"\n",
              "   \"http://www.w3.org/TR/html4/strict.dtd\">\n",
              "<!--\n",
              "generated by Pygments <https://pygments.org/>\n",
              "Copyright 2006-2022 by the Pygments team.\n",
              "Licensed under the BSD license, see LICENSE for details.\n",
              "-->\n",
              "<html>\n",
              "<head>\n",
              "  <title></title>\n",
              "  <meta http-equiv=\"content-type\" content=\"text/html; charset=None\">\n",
              "  <style type=\"text/css\">\n",
              "/*\n",
              "generated by Pygments <https://pygments.org/>\n",
              "Copyright 2006-2022 by the Pygments team.\n",
              "Licensed under the BSD license, see LICENSE for details.\n",
              "*/\n",
              "pre { line-height: 125%; }\n",
              "td.linenos .normal { color: inherit; background-color: transparent; padding-left: 5px; padding-right: 5px; }\n",
              "span.linenos { color: inherit; background-color: transparent; padding-left: 5px; padding-right: 5px; }\n",
              "td.linenos .special { color: #000000; background-color: #ffffc0; padding-left: 5px; padding-right: 5px; }\n",
              "span.linenos.special { color: #000000; background-color: #ffffc0; padding-left: 5px; padding-right: 5px; }\n",
              "body .hll { background-color: #333333 }\n",
              "body .c { color: #008800; font-style: italic; background-color: #0f140f } /* Comment */\n",
              "body .err { color: #ffffff } /* Error */\n",
              "body .esc { color: #ffffff } /* Escape */\n",
              "body .g { color: #ffffff } /* Generic */\n",
              "body .k { color: #fb660a; font-weight: bold } /* Keyword */\n",
              "body .l { color: #ffffff } /* Literal */\n",
              "body .n { color: #ffffff } /* Name */\n",
              "body .o { color: #ffffff } /* Operator */\n",
              "body .x { color: #ffffff } /* Other */\n",
              "body .p { color: #ffffff } /* Punctuation */\n",
              "body .ch { color: #008800; font-style: italic; background-color: #0f140f } /* Comment.Hashbang */\n",
              "body .cm { color: #008800; font-style: italic; background-color: #0f140f } /* Comment.Multiline */\n",
              "body .cp { color: #ff0007; font-weight: bold; font-style: italic; background-color: #0f140f } /* Comment.Preproc */\n",
              "body .cpf { color: #008800; font-style: italic; background-color: #0f140f } /* Comment.PreprocFile */\n",
              "body .c1 { color: #008800; font-style: italic; background-color: #0f140f } /* Comment.Single */\n",
              "body .cs { color: #008800; font-style: italic; background-color: #0f140f } /* Comment.Special */\n",
              "body .gd { color: #ffffff } /* Generic.Deleted */\n",
              "body .ge { color: #ffffff } /* Generic.Emph */\n",
              "body .gr { color: #ffffff } /* Generic.Error */\n",
              "body .gh { color: #ffffff; font-weight: bold } /* Generic.Heading */\n",
              "body .gi { color: #ffffff } /* Generic.Inserted */\n",
              "body .go { color: #444444; background-color: #222222 } /* Generic.Output */\n",
              "body .gp { color: #ffffff } /* Generic.Prompt */\n",
              "body .gs { color: #ffffff } /* Generic.Strong */\n",
              "body .gu { color: #ffffff; font-weight: bold } /* Generic.Subheading */\n",
              "body .gt { color: #ffffff } /* Generic.Traceback */\n",
              "body .kc { color: #fb660a; font-weight: bold } /* Keyword.Constant */\n",
              "body .kd { color: #fb660a; font-weight: bold } /* Keyword.Declaration */\n",
              "body .kn { color: #fb660a; font-weight: bold } /* Keyword.Namespace */\n",
              "body .kp { color: #fb660a } /* Keyword.Pseudo */\n",
              "body .kr { color: #fb660a; font-weight: bold } /* Keyword.Reserved */\n",
              "body .kt { color: #cdcaa9; font-weight: bold } /* Keyword.Type */\n",
              "body .ld { color: #ffffff } /* Literal.Date */\n",
              "body .m { color: #0086f7; font-weight: bold } /* Literal.Number */\n",
              "body .s { color: #0086d2 } /* Literal.String */\n",
              "body .na { color: #ff0086; font-weight: bold } /* Name.Attribute */\n",
              "body .nb { color: #ffffff } /* Name.Builtin */\n",
              "body .nc { color: #ffffff } /* Name.Class */\n",
              "body .no { color: #0086d2 } /* Name.Constant */\n",
              "body .nd { color: #ffffff } /* Name.Decorator */\n",
              "body .ni { color: #ffffff } /* Name.Entity */\n",
              "body .ne { color: #ffffff } /* Name.Exception */\n",
              "body .nf { color: #ff0086; font-weight: bold } /* Name.Function */\n",
              "body .nl { color: #ffffff } /* Name.Label */\n",
              "body .nn { color: #ffffff } /* Name.Namespace */\n",
              "body .nx { color: #ffffff } /* Name.Other */\n",
              "body .py { color: #ffffff } /* Name.Property */\n",
              "body .nt { color: #fb660a; font-weight: bold } /* Name.Tag */\n",
              "body .nv { color: #fb660a } /* Name.Variable */\n",
              "body .ow { color: #ffffff } /* Operator.Word */\n",
              "body .pm { color: #ffffff } /* Punctuation.Marker */\n",
              "body .w { color: #888888 } /* Text.Whitespace */\n",
              "body .mb { color: #0086f7; font-weight: bold } /* Literal.Number.Bin */\n",
              "body .mf { color: #0086f7; font-weight: bold } /* Literal.Number.Float */\n",
              "body .mh { color: #0086f7; font-weight: bold } /* Literal.Number.Hex */\n",
              "body .mi { color: #0086f7; font-weight: bold } /* Literal.Number.Integer */\n",
              "body .mo { color: #0086f7; font-weight: bold } /* Literal.Number.Oct */\n",
              "body .sa { color: #0086d2 } /* Literal.String.Affix */\n",
              "body .sb { color: #0086d2 } /* Literal.String.Backtick */\n",
              "body .sc { color: #0086d2 } /* Literal.String.Char */\n",
              "body .dl { color: #0086d2 } /* Literal.String.Delimiter */\n",
              "body .sd { color: #0086d2 } /* Literal.String.Doc */\n",
              "body .s2 { color: #0086d2 } /* Literal.String.Double */\n",
              "body .se { color: #0086d2 } /* Literal.String.Escape */\n",
              "body .sh { color: #0086d2 } /* Literal.String.Heredoc */\n",
              "body .si { color: #0086d2 } /* Literal.String.Interpol */\n",
              "body .sx { color: #0086d2 } /* Literal.String.Other */\n",
              "body .sr { color: #0086d2 } /* Literal.String.Regex */\n",
              "body .s1 { color: #0086d2 } /* Literal.String.Single */\n",
              "body .ss { color: #0086d2 } /* Literal.String.Symbol */\n",
              "body .bp { color: #ffffff } /* Name.Builtin.Pseudo */\n",
              "body .fm { color: #ff0086; font-weight: bold } /* Name.Function.Magic */\n",
              "body .vc { color: #fb660a } /* Name.Variable.Class */\n",
              "body .vg { color: #fb660a } /* Name.Variable.Global */\n",
              "body .vi { color: #fb660a } /* Name.Variable.Instance */\n",
              "body .vm { color: #fb660a } /* Name.Variable.Magic */\n",
              "body .il { color: #0086f7; font-weight: bold } /* Literal.Number.Integer.Long */\n",
              "\n",
              "  </style>\n",
              "</head>\n",
              "<body>\n",
              "<h2></h2>\n",
              "\n",
              "<div class=\"highlight\"><pre><span></span><span class=\"kt\">int</span><span class=\"w\"> </span><span class=\"nf\">foo</span><span class=\"p\">()</span><span class=\"w\"> </span><span class=\"p\">{</span>\n",
              "<span class=\"w\">    </span><span class=\"n\">cout</span><span class=\"w\"> </span><span class=\"o\">&lt;&lt;</span><span class=\"w\"> </span><span class=\"s\">&quot;Hello World!&quot;</span><span class=\"w\"> </span><span class=\"o\">&lt;&lt;</span><span class=\"w\"> </span><span class=\"n\">endl</span><span class=\"p\">;</span>\n",
              "<span class=\"p\">}</span>\n",
              "</pre></div>\n",
              "</body>\n",
              "</html>\n"
            ]
          },
          "metadata": {}
        }
      ]
    },
    {
      "cell_type": "markdown",
      "metadata": {
        "id": "llPk4IfzC7lO"
      },
      "source": [
        "### Append to an existing file\n",
        "Use option `-a` to append to the file mentoined via `-n` argument."
      ]
    },
    {
      "cell_type": "code",
      "metadata": {
        "id": "Ln-iP7f7zsVF",
        "outputId": "bcfb5155-6916-46ef-ba69-c692667b63ec",
        "colab": {
          "base_uri": "https://localhost:8080/",
          "height": 87
        }
      },
      "source": [
        "#@title Refer output of this cell. Double-click to hide source.\n",
        "%%cpp -n test.cpp -a\n",
        "\n",
        "int foo() {\n",
        "    cout << \"Hello World!\" << endl;\n",
        "}"
      ],
      "execution_count": null,
      "outputs": [
        {
          "output_type": "display_data",
          "data": {
            "text/plain": [
              "<IPython.core.display.HTML object>"
            ],
            "text/html": [
              "<!DOCTYPE html PUBLIC \"-//W3C//DTD HTML 4.01//EN\"\n",
              "   \"http://www.w3.org/TR/html4/strict.dtd\">\n",
              "<!--\n",
              "generated by Pygments <https://pygments.org/>\n",
              "Copyright 2006-2022 by the Pygments team.\n",
              "Licensed under the BSD license, see LICENSE for details.\n",
              "-->\n",
              "<html>\n",
              "<head>\n",
              "  <title></title>\n",
              "  <meta http-equiv=\"content-type\" content=\"text/html; charset=None\">\n",
              "  <style type=\"text/css\">\n",
              "/*\n",
              "generated by Pygments <https://pygments.org/>\n",
              "Copyright 2006-2022 by the Pygments team.\n",
              "Licensed under the BSD license, see LICENSE for details.\n",
              "*/\n",
              "pre { line-height: 125%; }\n",
              "td.linenos .normal { color: inherit; background-color: transparent; padding-left: 5px; padding-right: 5px; }\n",
              "span.linenos { color: inherit; background-color: transparent; padding-left: 5px; padding-right: 5px; }\n",
              "td.linenos .special { color: #000000; background-color: #ffffc0; padding-left: 5px; padding-right: 5px; }\n",
              "span.linenos.special { color: #000000; background-color: #ffffc0; padding-left: 5px; padding-right: 5px; }\n",
              "body .hll { background-color: #4f424c }\n",
              "body .c { color: #776e71 } /* Comment */\n",
              "body .err { color: #ef6155 } /* Error */\n",
              "body .k { color: #815ba4 } /* Keyword */\n",
              "body .l { color: #f99b15 } /* Literal */\n",
              "body .n { color: #e7e9db } /* Name */\n",
              "body .o { color: #5bc4bf } /* Operator */\n",
              "body .p { color: #e7e9db } /* Punctuation */\n",
              "body .ch { color: #776e71 } /* Comment.Hashbang */\n",
              "body .cm { color: #776e71 } /* Comment.Multiline */\n",
              "body .cp { color: #776e71 } /* Comment.Preproc */\n",
              "body .cpf { color: #776e71 } /* Comment.PreprocFile */\n",
              "body .c1 { color: #776e71 } /* Comment.Single */\n",
              "body .cs { color: #776e71 } /* Comment.Special */\n",
              "body .gd { color: #ef6155 } /* Generic.Deleted */\n",
              "body .ge { font-style: italic } /* Generic.Emph */\n",
              "body .gh { color: #e7e9db; font-weight: bold } /* Generic.Heading */\n",
              "body .gi { color: #48b685 } /* Generic.Inserted */\n",
              "body .gp { color: #776e71; font-weight: bold } /* Generic.Prompt */\n",
              "body .gs { font-weight: bold } /* Generic.Strong */\n",
              "body .gu { color: #5bc4bf; font-weight: bold } /* Generic.Subheading */\n",
              "body .kc { color: #815ba4 } /* Keyword.Constant */\n",
              "body .kd { color: #815ba4 } /* Keyword.Declaration */\n",
              "body .kn { color: #5bc4bf } /* Keyword.Namespace */\n",
              "body .kp { color: #815ba4 } /* Keyword.Pseudo */\n",
              "body .kr { color: #815ba4 } /* Keyword.Reserved */\n",
              "body .kt { color: #fec418 } /* Keyword.Type */\n",
              "body .ld { color: #48b685 } /* Literal.Date */\n",
              "body .m { color: #f99b15 } /* Literal.Number */\n",
              "body .s { color: #48b685 } /* Literal.String */\n",
              "body .na { color: #06b6ef } /* Name.Attribute */\n",
              "body .nb { color: #e7e9db } /* Name.Builtin */\n",
              "body .nc { color: #fec418 } /* Name.Class */\n",
              "body .no { color: #ef6155 } /* Name.Constant */\n",
              "body .nd { color: #5bc4bf } /* Name.Decorator */\n",
              "body .ni { color: #e7e9db } /* Name.Entity */\n",
              "body .ne { color: #ef6155 } /* Name.Exception */\n",
              "body .nf { color: #06b6ef } /* Name.Function */\n",
              "body .nl { color: #e7e9db } /* Name.Label */\n",
              "body .nn { color: #fec418 } /* Name.Namespace */\n",
              "body .nx { color: #06b6ef } /* Name.Other */\n",
              "body .py { color: #e7e9db } /* Name.Property */\n",
              "body .nt { color: #5bc4bf } /* Name.Tag */\n",
              "body .nv { color: #ef6155 } /* Name.Variable */\n",
              "body .ow { color: #5bc4bf } /* Operator.Word */\n",
              "body .pm { color: #e7e9db } /* Punctuation.Marker */\n",
              "body .w { color: #e7e9db } /* Text.Whitespace */\n",
              "body .mb { color: #f99b15 } /* Literal.Number.Bin */\n",
              "body .mf { color: #f99b15 } /* Literal.Number.Float */\n",
              "body .mh { color: #f99b15 } /* Literal.Number.Hex */\n",
              "body .mi { color: #f99b15 } /* Literal.Number.Integer */\n",
              "body .mo { color: #f99b15 } /* Literal.Number.Oct */\n",
              "body .sa { color: #48b685 } /* Literal.String.Affix */\n",
              "body .sb { color: #48b685 } /* Literal.String.Backtick */\n",
              "body .sc { color: #e7e9db } /* Literal.String.Char */\n",
              "body .dl { color: #48b685 } /* Literal.String.Delimiter */\n",
              "body .sd { color: #776e71 } /* Literal.String.Doc */\n",
              "body .s2 { color: #48b685 } /* Literal.String.Double */\n",
              "body .se { color: #f99b15 } /* Literal.String.Escape */\n",
              "body .sh { color: #48b685 } /* Literal.String.Heredoc */\n",
              "body .si { color: #f99b15 } /* Literal.String.Interpol */\n",
              "body .sx { color: #48b685 } /* Literal.String.Other */\n",
              "body .sr { color: #48b685 } /* Literal.String.Regex */\n",
              "body .s1 { color: #48b685 } /* Literal.String.Single */\n",
              "body .ss { color: #48b685 } /* Literal.String.Symbol */\n",
              "body .bp { color: #e7e9db } /* Name.Builtin.Pseudo */\n",
              "body .fm { color: #06b6ef } /* Name.Function.Magic */\n",
              "body .vc { color: #ef6155 } /* Name.Variable.Class */\n",
              "body .vg { color: #ef6155 } /* Name.Variable.Global */\n",
              "body .vi { color: #ef6155 } /* Name.Variable.Instance */\n",
              "body .vm { color: #ef6155 } /* Name.Variable.Magic */\n",
              "body .il { color: #f99b15 } /* Literal.Number.Integer.Long */\n",
              "\n",
              "  </style>\n",
              "</head>\n",
              "<body>\n",
              "<h2></h2>\n",
              "\n",
              "<div class=\"highlight\"><pre><span></span><span class=\"kt\">int</span><span class=\"w\"> </span><span class=\"nf\">foo</span><span class=\"p\">()</span><span class=\"w\"> </span><span class=\"p\">{</span>\n",
              "<span class=\"w\">    </span><span class=\"n\">cout</span><span class=\"w\"> </span><span class=\"o\">&lt;&lt;</span><span class=\"w\"> </span><span class=\"s\">&quot;Hello World!&quot;</span><span class=\"w\"> </span><span class=\"o\">&lt;&lt;</span><span class=\"w\"> </span><span class=\"n\">endl</span><span class=\"p\">;</span>\n",
              "<span class=\"p\">}</span>\n",
              "</pre></div>\n",
              "</body>\n",
              "</html>\n"
            ]
          },
          "metadata": {}
        }
      ]
    },
    {
      "cell_type": "markdown",
      "metadata": {
        "id": "YuqGHTyeDmsG"
      },
      "source": [
        "### Compile\n",
        "You can also compile the source file when writing or appending. Use `-c true` to compile using `g++ -o <filename> <filename.ext>`, where, `<filename>` is file name without extension as specified by `-n` and `<fiename.ext>` is file name with extension as specifed by `-n` option.\n",
        "\n",
        "You can give custom build commands via `-c '<compile command>'`. Please note that the compilr command must be enclosed in `'`."
      ]
    },
    {
      "cell_type": "code",
      "metadata": {
        "id": "7u8c9VMhDxdg",
        "outputId": "687994fc-dc56-4e13-923c-d673c9fb3298",
        "colab": {
          "base_uri": "https://localhost:8080/",
          "height": 264
        }
      },
      "source": [
        "#@title Refer output of this cell. Double-click to hide source.\n",
        "%%cpp -n test.cpp -c true -a\n",
        "\n",
        "int bar() {\n",
        "    cout << \"This is C++ Plugin.\" << endl;\n",
        "}"
      ],
      "execution_count": null,
      "outputs": [
        {
          "output_type": "stream",
          "name": "stdout",
          "text": [
            "test.cpp: In function ‘int foo()’:\n",
            "test.cpp:14:1: warning: no return statement in function returning non-void [-Wreturn-type]\n",
            "   14 | }\n",
            "      | ^\n",
            "test.cpp: In function ‘int bar()’:\n",
            "test.cpp:18:1: warning: no return statement in function returning non-void [-Wreturn-type]\n",
            "   18 | }\n",
            "      | ^\n",
            "\n"
          ]
        },
        {
          "output_type": "display_data",
          "data": {
            "text/plain": [
              "<IPython.core.display.HTML object>"
            ],
            "text/html": [
              "<!DOCTYPE html PUBLIC \"-//W3C//DTD HTML 4.01//EN\"\n",
              "   \"http://www.w3.org/TR/html4/strict.dtd\">\n",
              "<!--\n",
              "generated by Pygments <https://pygments.org/>\n",
              "Copyright 2006-2022 by the Pygments team.\n",
              "Licensed under the BSD license, see LICENSE for details.\n",
              "-->\n",
              "<html>\n",
              "<head>\n",
              "  <title></title>\n",
              "  <meta http-equiv=\"content-type\" content=\"text/html; charset=None\">\n",
              "  <style type=\"text/css\">\n",
              "/*\n",
              "generated by Pygments <https://pygments.org/>\n",
              "Copyright 2006-2022 by the Pygments team.\n",
              "Licensed under the BSD license, see LICENSE for details.\n",
              "*/\n",
              "pre { line-height: 125%; }\n",
              "td.linenos .normal { color: inherit; background-color: transparent; padding-left: 5px; padding-right: 5px; }\n",
              "span.linenos { color: inherit; background-color: transparent; padding-left: 5px; padding-right: 5px; }\n",
              "td.linenos .special { color: #000000; background-color: #ffffc0; padding-left: 5px; padding-right: 5px; }\n",
              "span.linenos.special { color: #000000; background-color: #ffffc0; padding-left: 5px; padding-right: 5px; }\n",
              "body .hll { background-color: #4f424c }\n",
              "body .c { color: #776e71 } /* Comment */\n",
              "body .err { color: #ef6155 } /* Error */\n",
              "body .k { color: #815ba4 } /* Keyword */\n",
              "body .l { color: #f99b15 } /* Literal */\n",
              "body .n { color: #e7e9db } /* Name */\n",
              "body .o { color: #5bc4bf } /* Operator */\n",
              "body .p { color: #e7e9db } /* Punctuation */\n",
              "body .ch { color: #776e71 } /* Comment.Hashbang */\n",
              "body .cm { color: #776e71 } /* Comment.Multiline */\n",
              "body .cp { color: #776e71 } /* Comment.Preproc */\n",
              "body .cpf { color: #776e71 } /* Comment.PreprocFile */\n",
              "body .c1 { color: #776e71 } /* Comment.Single */\n",
              "body .cs { color: #776e71 } /* Comment.Special */\n",
              "body .gd { color: #ef6155 } /* Generic.Deleted */\n",
              "body .ge { font-style: italic } /* Generic.Emph */\n",
              "body .gh { color: #e7e9db; font-weight: bold } /* Generic.Heading */\n",
              "body .gi { color: #48b685 } /* Generic.Inserted */\n",
              "body .gp { color: #776e71; font-weight: bold } /* Generic.Prompt */\n",
              "body .gs { font-weight: bold } /* Generic.Strong */\n",
              "body .gu { color: #5bc4bf; font-weight: bold } /* Generic.Subheading */\n",
              "body .kc { color: #815ba4 } /* Keyword.Constant */\n",
              "body .kd { color: #815ba4 } /* Keyword.Declaration */\n",
              "body .kn { color: #5bc4bf } /* Keyword.Namespace */\n",
              "body .kp { color: #815ba4 } /* Keyword.Pseudo */\n",
              "body .kr { color: #815ba4 } /* Keyword.Reserved */\n",
              "body .kt { color: #fec418 } /* Keyword.Type */\n",
              "body .ld { color: #48b685 } /* Literal.Date */\n",
              "body .m { color: #f99b15 } /* Literal.Number */\n",
              "body .s { color: #48b685 } /* Literal.String */\n",
              "body .na { color: #06b6ef } /* Name.Attribute */\n",
              "body .nb { color: #e7e9db } /* Name.Builtin */\n",
              "body .nc { color: #fec418 } /* Name.Class */\n",
              "body .no { color: #ef6155 } /* Name.Constant */\n",
              "body .nd { color: #5bc4bf } /* Name.Decorator */\n",
              "body .ni { color: #e7e9db } /* Name.Entity */\n",
              "body .ne { color: #ef6155 } /* Name.Exception */\n",
              "body .nf { color: #06b6ef } /* Name.Function */\n",
              "body .nl { color: #e7e9db } /* Name.Label */\n",
              "body .nn { color: #fec418 } /* Name.Namespace */\n",
              "body .nx { color: #06b6ef } /* Name.Other */\n",
              "body .py { color: #e7e9db } /* Name.Property */\n",
              "body .nt { color: #5bc4bf } /* Name.Tag */\n",
              "body .nv { color: #ef6155 } /* Name.Variable */\n",
              "body .ow { color: #5bc4bf } /* Operator.Word */\n",
              "body .pm { color: #e7e9db } /* Punctuation.Marker */\n",
              "body .w { color: #e7e9db } /* Text.Whitespace */\n",
              "body .mb { color: #f99b15 } /* Literal.Number.Bin */\n",
              "body .mf { color: #f99b15 } /* Literal.Number.Float */\n",
              "body .mh { color: #f99b15 } /* Literal.Number.Hex */\n",
              "body .mi { color: #f99b15 } /* Literal.Number.Integer */\n",
              "body .mo { color: #f99b15 } /* Literal.Number.Oct */\n",
              "body .sa { color: #48b685 } /* Literal.String.Affix */\n",
              "body .sb { color: #48b685 } /* Literal.String.Backtick */\n",
              "body .sc { color: #e7e9db } /* Literal.String.Char */\n",
              "body .dl { color: #48b685 } /* Literal.String.Delimiter */\n",
              "body .sd { color: #776e71 } /* Literal.String.Doc */\n",
              "body .s2 { color: #48b685 } /* Literal.String.Double */\n",
              "body .se { color: #f99b15 } /* Literal.String.Escape */\n",
              "body .sh { color: #48b685 } /* Literal.String.Heredoc */\n",
              "body .si { color: #f99b15 } /* Literal.String.Interpol */\n",
              "body .sx { color: #48b685 } /* Literal.String.Other */\n",
              "body .sr { color: #48b685 } /* Literal.String.Regex */\n",
              "body .s1 { color: #48b685 } /* Literal.String.Single */\n",
              "body .ss { color: #48b685 } /* Literal.String.Symbol */\n",
              "body .bp { color: #e7e9db } /* Name.Builtin.Pseudo */\n",
              "body .fm { color: #06b6ef } /* Name.Function.Magic */\n",
              "body .vc { color: #ef6155 } /* Name.Variable.Class */\n",
              "body .vg { color: #ef6155 } /* Name.Variable.Global */\n",
              "body .vi { color: #ef6155 } /* Name.Variable.Instance */\n",
              "body .vm { color: #ef6155 } /* Name.Variable.Magic */\n",
              "body .il { color: #f99b15 } /* Literal.Number.Integer.Long */\n",
              "\n",
              "  </style>\n",
              "</head>\n",
              "<body>\n",
              "<h2></h2>\n",
              "\n",
              "<div class=\"highlight\"><pre><span></span><span class=\"kt\">int</span><span class=\"w\"> </span><span class=\"nf\">bar</span><span class=\"p\">()</span><span class=\"w\"> </span><span class=\"p\">{</span>\n",
              "<span class=\"w\">    </span><span class=\"n\">cout</span><span class=\"w\"> </span><span class=\"o\">&lt;&lt;</span><span class=\"w\"> </span><span class=\"s\">&quot;This is C++ Plugin.&quot;</span><span class=\"w\"> </span><span class=\"o\">&lt;&lt;</span><span class=\"w\"> </span><span class=\"n\">endl</span><span class=\"p\">;</span>\n",
              "<span class=\"p\">}</span>\n",
              "</pre></div>\n",
              "</body>\n",
              "</html>\n"
            ]
          },
          "metadata": {}
        }
      ]
    },
    {
      "cell_type": "markdown",
      "metadata": {
        "id": "wHbDJQVADOVm"
      },
      "source": [
        "### Execute"
      ]
    },
    {
      "cell_type": "code",
      "metadata": {
        "id": "4QM92lhcsITU",
        "outputId": "fc3f7e87-73f0-4b9c-8114-0deb576fa352",
        "colab": {
          "base_uri": "https://localhost:8080/"
        }
      },
      "source": [
        "!./test"
      ],
      "execution_count": null,
      "outputs": [
        {
          "output_type": "stream",
          "name": "stdout",
          "text": [
            "Hello World!\n",
            "This is C++ Plugin.\n"
          ]
        }
      ]
    },
    {
      "cell_type": "code",
      "source": [
        "\n",
        "#include <iostream>\n",
        "#include <fstream>\n",
        "#include <string>\n",
        "#include <vector>\n",
        "\n",
        "#include <pmp/SurfaceMesh.h>\n",
        "#include <pmp/algorithms/SurfaceNormals.h>\n",
        "\n",
        "using namespace pmp;\n",
        "\n",
        "int main(int argc, char** argv)\n",
        "{\n",
        "    if(argc < 2)\n",
        "    {\n",
        "        std::cout << \"Usage: \" << argv[0] << \" <filename.stl>\" << std::endl;\n",
        "        return 1;\n",
        "    }\n",
        "\n",
        "    // ファイル名を取得する\n",
        "    std::string filename(argv[1]);\n",
        "\n",
        "    // ファイルを読み込む\n",
        "    SurfaceMesh mesh;\n",
        "    if(!mesh.read_stl(filename))\n",
        "    {\n",
        "        std::cerr << \"Error: could not read mesh from file \" << filename << std::endl;\n",
        "        return 1;\n",
        "    }\n",
        "\n",
        "    // メッシュの法線を計算する\n",
        "    SurfaceNormals::compute_face_normals(mesh);\n",
        "    SurfaceNormals::compute_vertex_normals(mesh);\n",
        "\n",
        "    // メッシュの体積を計算する\n",
        "    Scalar volume = 0.0;\n",
        "    for(auto f : mesh.faces())\n",
        "    {\n",
        "        volume += mesh.face_area(f) * mesh.normal(f)[2] * mesh.position(mesh.vertices(f)[0])[2];\n",
        "    }\n",
        "    volume /= 3.0;\n",
        "\n",
        "    // 結果を出力する\n",
        "    std::cout << \"Volume of mesh in file \" << filename << \" is \" << volume << std::endl;\n",
        "\n",
        "    return 0;\n",
        "}"
      ],
      "metadata": {
        "id": "Ki1aVmmcu3cv"
      },
      "execution_count": null,
      "outputs": []
    },
    {
      "cell_type": "code",
      "source": [
        "\n",
        "#include <iostream>\n",
        "#include <fstream>\n",
        "#include <string>\n",
        "#include <vector>\n",
        "\n",
        "#include <pmp/SurfaceMesh.h>\n",
        "\n",
        "using namespace pmp;\n",
        "\n",
        "int main(int argc, char** argv)\n",
        "{\n",
        "    if(argc < 2)\n",
        "    {\n",
        "        std::cout << \"Usage: \" << argv[0] << \" <filename.obj>\" << std::endl;\n",
        "        return 1;\n",
        "    }\n",
        "\n",
        "    // ファイル名を取得する\n",
        "    std::string filename(argv[1]);\n",
        "\n",
        "    // ファイルを読み込む\n",
        "    SurfaceMesh mesh;\n",
        "    if(!mesh.read(filename))\n",
        "    {\n",
        "        std::cerr << \"Error: could not read mesh from file \" << filename << std::endl;\n",
        "        return 1;\n",
        "    }\n",
        "\n",
        "    // メッシュの頂点を取得する\n",
        "    auto vertices = mesh.vertices();\n",
        "\n",
        "    // 頂点の座標を出力する\n",
        "    for(auto v : vertices)\n",
        "    {\n",
        "        std::cout << \"Vertex \" << v.idx() << \": (\" << mesh.position(v) << \")\" << std::endl;\n",
        "    }\n",
        "\n",
        "    return 0;\n",
        "}"
      ],
      "metadata": {
        "id": "hJhhueRSvC4M"
      },
      "execution_count": null,
      "outputs": []
    },
    {
      "cell_type": "code",
      "source": [
        "\n",
        "#include <iostream>\n",
        "#include <fstream>\n",
        "#include <string>\n",
        "\n",
        "#include <pmp/SurfaceMesh.h>\n",
        "\n",
        "using namespace pmp;\n",
        "\n",
        "int main(int argc, char** argv)\n",
        "{\n",
        "    if(argc < 2)\n",
        "    {\n",
        "        std::cout << \"Usage: \" << argv[0] << \" <filename.stl>\" << std::endl;\n",
        "        return 1;\n",
        "    }\n",
        "\n",
        "    // ファイル名を取得する\n",
        "    std::string filename(argv[1]);\n",
        "\n",
        "    // ファイルを読み込む\n",
        "    SurfaceMesh mesh;\n",
        "    if(!mesh.read(filename))\n",
        "    {\n",
        "        std::cerr << \"Error: could not read mesh from file \" << filename << std::endl;\n",
        "        return 1;\n",
        "    }\n",
        "\n",
        "    // メッシュの体積を計算する微小な凸凹含めない\n",
        "    Scalar volume = mesh.volume();\n",
        "\n",
        "    // 結果を出力する\n",
        "    std::cout << \"Volume (excluding tiny bumps): \" << volume << std::endl;\n",
        "\n",
        "    return 0;\n",
        "}"
      ],
      "metadata": {
        "id": "EM2Z2AWCvaFY"
      },
      "execution_count": null,
      "outputs": []
    },
    {
      "cell_type": "code",
      "source": [
        "\n",
        "#include <iostream>\n",
        "#include <fstream>\n",
        "#include <string>\n",
        "\n",
        "#include <pmp/SurfaceMesh.h>\n",
        "\n",
        "using namespace pmp;\n",
        "\n",
        "int main(int argc, char** argv)\n",
        "{\n",
        "    if(argc < 2)\n",
        "    {\n",
        "        std::cout << \"Usage: \" << argv[0] << \" <filename.stl>\" << std::endl;\n",
        "        return 1;\n",
        "    }\n",
        "\n",
        "    // ファイル名を取得する\n",
        "    std::string filename(argv[1]);\n",
        "\n",
        "    // ファイルを読み込む\n",
        "    SurfaceMesh mesh;\n",
        "    if(!mesh.read(filename))\n",
        "    {\n",
        "        std::cerr << \"Error: could not read mesh from file \" << filename << std::endl;\n",
        "        return 1;\n",
        "    }\n",
        "\n",
        "    // 微小な凸凹を含めるために、面積重心法を使用して体積を計算する\n",
        "    Scalar volume = 0.0;\n",
        "    for(auto f : mesh.faces())\n",
        "    {\n",
        "        auto p0 = mesh.position(mesh.vertex(mesh.halfedge(f)));\n",
        "        auto p1 = mesh.position(mesh.vertex(mesh.next_halfedge(mesh.halfedge(f))));\n",
        "        auto p2 = mesh.position(mesh.vertex(mesh.prev_halfedge(mesh.halfedge(f))));\n",
        "        volume += dot(cross(p0, p1 - p0), p2 - p0);\n",
        "    }\n",
        "    volume /= 6.0;\n",
        "\n",
        "    // 結果を出力する\n",
        "    std::cout << \"Volume (including tiny bumps): \" << volume << std::endl;\n",
        "\n",
        "    return 0;\n",
        "}"
      ],
      "metadata": {
        "id": "AKoO1-anvrM5"
      },
      "execution_count": null,
      "outputs": []
    },
    {
      "cell_type": "code",
      "source": [
        "\n",
        "SurfaceNormals::compute_vertex_normals(mesh); \n",
        "// smooth the mesh to remove micro-features \n",
        "Remeshing(mesh).smoothen(3);"
      ],
      "metadata": {
        "id": "CY088WAvxl5g"
      },
      "execution_count": null,
      "outputs": []
    },
    {
      "cell_type": "code",
      "source": [
        "\n",
        "#include <iostream>\n",
        "#include <fstream>\n",
        "#include <string>\n",
        "\n",
        "#include <pmp/SurfaceMesh.h>\n",
        "\n",
        "using namespace pmp;\n",
        "\n",
        "int main(int argc, char** argv)\n",
        "{\n",
        "    if(argc < 2)\n",
        "    {\n",
        "        std::cout << \"Usage: \" << argv[0] << \" <filename.stl>\" << std::endl;\n",
        "        return 1;\n",
        "    }\n",
        "\n",
        "    // ファイル名を取得する\n",
        "    std::string filename(argv[1]);\n",
        "\n",
        "    // ファイルを読み込む\n",
        "    SurfaceMesh mesh;\n",
        "    if(!mesh.read(filename))\n",
        "    {\n",
        "        std::cerr << \"Error: could not read mesh from file \" << filename << std::endl;\n",
        "        return 1;\n",
        "    }\n",
        "\n",
        "    // 微小な凸凹を除去する\n",
        "    mesh.remove_isolated_vertices();\n",
        "    mesh.remove_duplicated_vertices();\n",
        "    mesh.remove_duplicated_faces();\n",
        "    mesh.remove_non_manifold_edges();\n",
        "\n",
        "    // メッシュの体積を計算する\n",
        "    Scalar volume = mesh.volume();\n",
        "\n",
        "    // 結果を出力する\n",
        "    std::cout << \"Volume (excluding tiny bumps): \" << volume << std::endl;\n",
        "\n",
        "    return 0;\n",
        "}"
      ],
      "metadata": {
        "id": "rhilOx-pxnuO"
      },
      "execution_count": null,
      "outputs": []
    }
  ]
}
